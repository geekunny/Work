{
 "cells": [
  {
   "cell_type": "markdown",
   "id": "14a1d7be",
   "metadata": {},
   "source": [
    "<div style=\"font-size: 15px\"><pre class=\"tab\"><b>Name-</b>Haardik Gilhotra          <b>Roll no.-</b>R177219086          <b>Sap Id-</b>500076610          <b>Batch</b>-3 AI&ML</pre>\n",
    "<hr>\n",
    "<div style=\"font-size: 30px\"><b><u><center>EXPERIMENT - 3</center></u></b>\n",
    "    <div style=\"font-size: 20px\"><b>Aim: Wine Quality Prediction</b>\n",
    "<!--jupyter-nbconvert --to PDFviaHTML winequality.ipynb-->"
   ]
  },
  {
   "cell_type": "code",
   "execution_count": 1,
   "id": "a66cf05f-89ab-4983-b646-0d9eec7886da",
   "metadata": {},
   "outputs": [],
   "source": [
    "# Importing libraries\n",
    "import pandas as pd\n",
    "import numpy as np\n",
    "from sklearn.linear_model import LinearRegression as lr\n",
    "from sklearn.neighbors import KNeighborsClassifier as knn\n",
    "from sklearn.ensemble import RandomForestClassifier as rf\n",
    "from sklearn.svm import SVC\n",
    "from sklearn.model_selection import train_test_split as tts\n",
    "from sklearn.metrics import accuracy_score as acc, confusion_matrix as cf\n",
    "import matplotlib.pyplot as plt"
   ]
  },
  {
   "cell_type": "code",
   "execution_count": 2,
   "id": "5f9a1458-1fed-4ede-820d-71a97d45cdd0",
   "metadata": {},
   "outputs": [
    {
     "data": {
      "text/html": [
       "<div>\n",
       "<style scoped>\n",
       "    .dataframe tbody tr th:only-of-type {\n",
       "        vertical-align: middle;\n",
       "    }\n",
       "\n",
       "    .dataframe tbody tr th {\n",
       "        vertical-align: top;\n",
       "    }\n",
       "\n",
       "    .dataframe thead th {\n",
       "        text-align: right;\n",
       "    }\n",
       "</style>\n",
       "<table border=\"1\" class=\"dataframe\">\n",
       "  <thead>\n",
       "    <tr style=\"text-align: right;\">\n",
       "      <th></th>\n",
       "      <th>type</th>\n",
       "      <th>fixed acidity</th>\n",
       "      <th>volatile acidity</th>\n",
       "      <th>citric acid</th>\n",
       "      <th>residual sugar</th>\n",
       "      <th>chlorides</th>\n",
       "      <th>free sulfur dioxide</th>\n",
       "      <th>total sulfur dioxide</th>\n",
       "      <th>density</th>\n",
       "      <th>pH</th>\n",
       "      <th>sulphates</th>\n",
       "      <th>alcohol</th>\n",
       "      <th>quality</th>\n",
       "    </tr>\n",
       "  </thead>\n",
       "  <tbody>\n",
       "    <tr>\n",
       "      <th>0</th>\n",
       "      <td>white</td>\n",
       "      <td>7.0</td>\n",
       "      <td>0.27</td>\n",
       "      <td>0.36</td>\n",
       "      <td>20.7</td>\n",
       "      <td>0.045</td>\n",
       "      <td>45.0</td>\n",
       "      <td>170.0</td>\n",
       "      <td>1.001</td>\n",
       "      <td>3.0</td>\n",
       "      <td>0.45</td>\n",
       "      <td>8.8</td>\n",
       "      <td>6</td>\n",
       "    </tr>\n",
       "    <tr>\n",
       "      <th>1</th>\n",
       "      <td>white</td>\n",
       "      <td>6.3</td>\n",
       "      <td>0.30</td>\n",
       "      <td>0.34</td>\n",
       "      <td>1.6</td>\n",
       "      <td>0.049</td>\n",
       "      <td>14.0</td>\n",
       "      <td>132.0</td>\n",
       "      <td>0.994</td>\n",
       "      <td>3.3</td>\n",
       "      <td>0.49</td>\n",
       "      <td>9.5</td>\n",
       "      <td>6</td>\n",
       "    </tr>\n",
       "  </tbody>\n",
       "</table>\n",
       "</div>"
      ],
      "text/plain": [
       "    type  fixed acidity  volatile acidity  citric acid  residual sugar  \\\n",
       "0  white            7.0              0.27         0.36            20.7   \n",
       "1  white            6.3              0.30         0.34             1.6   \n",
       "\n",
       "   chlorides  free sulfur dioxide  total sulfur dioxide  density   pH  \\\n",
       "0      0.045                 45.0                 170.0    1.001  3.0   \n",
       "1      0.049                 14.0                 132.0    0.994  3.3   \n",
       "\n",
       "   sulphates  alcohol  quality  \n",
       "0       0.45      8.8        6  \n",
       "1       0.49      9.5        6  "
      ]
     },
     "execution_count": 2,
     "metadata": {},
     "output_type": "execute_result"
    }
   ],
   "source": [
    "# Reading dataset\n",
    "wines = pd.read_csv(\"winequality.csv\")\n",
    "wines.head(2)"
   ]
  },
  {
   "cell_type": "code",
   "execution_count": 3,
   "id": "6e2421c4-d984-4d11-b063-07fea0a69028",
   "metadata": {},
   "outputs": [
    {
     "data": {
      "text/plain": [
       "34"
      ]
     },
     "execution_count": 3,
     "metadata": {},
     "output_type": "execute_result"
    }
   ],
   "source": [
    "# Checking if any dataset has nan values\n",
    "len(wines[wines.isna().any(axis=1)])"
   ]
  },
  {
   "cell_type": "code",
   "execution_count": 4,
   "id": "753503bf-0da8-44fc-859e-3aed7e0d23ac",
   "metadata": {},
   "outputs": [],
   "source": [
    "# Filling nan values with the mean \n",
    "for i in wines:\n",
    "    if i != \"type\":\n",
    "        wines[i].fillna(value=wines[i].mean(), inplace=True)"
   ]
  },
  {
   "cell_type": "code",
   "execution_count": 5,
   "id": "504dc71d-8b30-40a1-9266-567a7465e759",
   "metadata": {},
   "outputs": [
    {
     "data": {
      "text/plain": [
       "0"
      ]
     },
     "execution_count": 5,
     "metadata": {},
     "output_type": "execute_result"
    }
   ],
   "source": [
    "# Checking if nan values have been removed or not\n",
    "len(wines[wines.isna().any(axis=1)])"
   ]
  },
  {
   "cell_type": "code",
   "execution_count": 6,
   "id": "9af9ebf3-f39d-49fb-bd2f-a50ed53b5126",
   "metadata": {},
   "outputs": [],
   "source": [
    "# Defining the dependent and independent variables\n",
    "x = wines.drop(['quality','type'],axis = 1).values\n",
    "y = wines['quality'].values"
   ]
  },
  {
   "cell_type": "code",
   "execution_count": 7,
   "id": "5c6abefa-124e-40b6-a9c7-342467a11384",
   "metadata": {},
   "outputs": [],
   "source": [
    "# Splitting the dataset into training and testing data\n",
    "x_train, x_test, y_train, y_test = tts(x,y,test_size = 0.20)"
   ]
  },
  {
   "cell_type": "code",
   "execution_count": 8,
   "id": "bff97a20-8a7f-4a5d-ab21-e51c3a52f3c6",
   "metadata": {},
   "outputs": [
    {
     "name": "stdout",
     "output_type": "stream",
     "text": [
      "Confusion Matrix: \n",
      " [[  0   0   1   1   0   0]\n",
      " [  0   1  23  16   0   0]\n",
      " [  0   1 218 201   2   0]\n",
      " [  0   0  95 442  40   0]\n",
      " [  0   0  10 152  51   0]\n",
      " [  0   0   1  29  16   0]]\n",
      "Accuracy: 54.77%\n"
     ]
    },
    {
     "data": {
      "text/plain": [
       "<matplotlib.collections.PathCollection at 0x1d3c1be0f70>"
      ]
     },
     "execution_count": 8,
     "metadata": {},
     "output_type": "execute_result"
    },
    {
     "data": {
      "image/png": "[encoded data removed]",
      "text/plain": [
       "<Figure size 432x288 with 1 Axes>"
      ]
     },
     "metadata": {
      "needs_background": "light"
     },
     "output_type": "display_data"
    }
   ],
   "source": [
    "#--------------------------Multiple Linear Regression----------------------\n",
    "# Loading the Model\n",
    "model = lr()\n",
    "\n",
    "# Fitting the model\n",
    "model.fit(x_train, y_train)\n",
    "\n",
    "# Predicting the results\n",
    "y_pred = model.predict(x_test)\n",
    "\n",
    "# Some post-processing required according to the dataset\n",
    "y_pred = (np.rint(y_pred)).astype(np.uint)\n",
    "\n",
    "# Evalutating\n",
    "print(\"Confusion Matrix: \\n\",cf(y_test, y_pred))\n",
    "print(\"Accuracy: {:.2%}\".format(acc(y_test, y_pred)))\n",
    "\n",
    "# Plotting the results\n",
    "plt.scatter(y_test, y_pred)"
   ]
  },
  {
   "cell_type": "code",
   "execution_count": 9,
   "id": "bccb7409-60c1-48b1-bb8b-40e3a3911283",
   "metadata": {},
   "outputs": [
    {
     "name": "stdout",
     "output_type": "stream",
     "text": [
      "Confusion Matrix: \n",
      " [[  0   0   2   0   0   0]\n",
      " [  0   0   2  38   0   0]\n",
      " [  0   0  32 390   0   0]\n",
      " [  0   0  35 542   0   0]\n",
      " [  0   0   3 210   0   0]\n",
      " [  0   0   1  45   0   0]]\n",
      "Accuracy: 44.15%\n"
     ]
    },
    {
     "data": {
      "text/plain": [
       "<matplotlib.collections.PathCollection at 0x1d3c62d5730>"
      ]
     },
     "execution_count": 9,
     "metadata": {},
     "output_type": "execute_result"
    },
    {
     "data": {
      "image/png": "[encoded data removed]",
      "text/plain": [
       "<Figure size 432x288 with 1 Axes>"
      ]
     },
     "metadata": {
      "needs_background": "light"
     },
     "output_type": "display_data"
    }
   ],
   "source": [
    "#--------------------------Support Vector Machine----------------------\n",
    "# Loading the Model\n",
    "model = SVC()\n",
    "\n",
    "# Fitting the model\n",
    "model.fit(x_train, y_train)\n",
    "\n",
    "# Predicting the results\n",
    "y_pred = model.predict(x_test)\n",
    "\n",
    "# Some post-processing required according to the dataset\n",
    "y_pred = (np.rint(y_pred)).astype(np.uint)\n",
    "\n",
    "# Evalutating\n",
    "print(\"Confusion Matrix: \\n\",cf(y_test, y_pred))\n",
    "print(\"Accuracy: {:.2%}\".format(acc(y_test, y_pred)))\n",
    "\n",
    "# Plotting the results\n",
    "plt.scatter(y_test, y_pred)"
   ]
  },
  {
   "cell_type": "code",
   "execution_count": 10,
   "id": "e3e1a93c-1b4a-4a56-9aae-1156bb5e9896",
   "metadata": {},
   "outputs": [
    {
     "name": "stdout",
     "output_type": "stream",
     "text": [
      "Confusion Matrix: \n",
      " [[  0   0   1   1   0   0]\n",
      " [  0   2  27  11   0   0]\n",
      " [  0   2 242 155  21   2]\n",
      " [  0   8 190 316  62   1]\n",
      " [  1   1  42  97  70   2]\n",
      " [  0   0   7  18  15   6]]\n",
      "Accuracy: 48.92%\n"
     ]
    },
    {
     "data": {
      "text/plain": [
       "<matplotlib.collections.PathCollection at 0x1d3c63450d0>"
      ]
     },
     "execution_count": 10,
     "metadata": {},
     "output_type": "execute_result"
    },
    {
     "data": {
      "image/png": "[encoded data removed]",
      "text/plain": [
       "<Figure size 432x288 with 1 Axes>"
      ]
     },
     "metadata": {
      "needs_background": "light"
     },
     "output_type": "display_data"
    }
   ],
   "source": [
    "#--------------------------k Nearest Neighbor----------------------\n",
    "# Loading the Model\n",
    "model = knn(n_neighbors=5)\n",
    "\n",
    "# Fitting the model\n",
    "model.fit(x_train, y_train)\n",
    "\n",
    "# Predicting the results\n",
    "y_pred = model.predict(x_test)\n",
    "\n",
    "# Some post-processing required according to the dataset\n",
    "y_pred = (np.rint(y_pred)).astype(np.uint)\n",
    "\n",
    "# Evalutating\n",
    "print(\"Confusion Matrix: \\n\",cf(y_test, y_pred))\n",
    "print(\"Accuracy: {:.2%}\".format(acc(y_test, y_pred)))\n",
    "\n",
    "# Plotting the results\n",
    "plt.scatter(y_test, y_pred)"
   ]
  },
  {
   "cell_type": "code",
   "execution_count": 11,
   "id": "6fa5db32-f4a3-4b42-a2d3-cc69eeb3843d",
   "metadata": {},
   "outputs": [
    {
     "name": "stdout",
     "output_type": "stream",
     "text": [
      "Confusion Matrix: \n",
      " [[  0   0   2   0   0   0]\n",
      " [  1   8  23   8   0   0]\n",
      " [  2  18 280 101  19   2]\n",
      " [  1  16 162 297  90  11]\n",
      " [  0   3  15  78 107  10]\n",
      " [  0   1   1  14  14  16]]\n",
      "Accuracy: 54.46%\n"
     ]
    },
    {
     "data": {
      "text/plain": [
       "<matplotlib.collections.PathCollection at 0x1d3c6394a00>"
      ]
     },
     "execution_count": 11,
     "metadata": {},
     "output_type": "execute_result"
    },
    {
     "data": {
      "image/png": "[encoded data removed]",
      "text/plain": [
       "<Figure size 432x288 with 1 Axes>"
      ]
     },
     "metadata": {
      "needs_background": "light"
     },
     "output_type": "display_data"
    }
   ],
   "source": [
    "#--------------------------Random Forest----------------------\n",
    "# Loading the Model\n",
    "model = rf(n_estimators=3,max_depth=15,class_weight='balanced')\n",
    "\n",
    "# Fitting the model\n",
    "model.fit(x_train, y_train)\n",
    "\n",
    "# Predicting the results\n",
    "y_pred = model.predict(x_test)\n",
    "\n",
    "# Some post-processing required according to the dataset\n",
    "y_pred = (np.rint(y_pred)).astype(np.uint)\n",
    "\n",
    "# Evalutating\n",
    "print(\"Confusion Matrix: \\n\",cf(y_test, y_pred))\n",
    "print(\"Accuracy: {:.2%}\".format(acc(y_test, y_pred)))\n",
    "\n",
    "# Plotting the results\n",
    "plt.scatter(y_test, y_pred)"
   ]
  }
 ],
 "metadata": {
  "kernelspec": {
   "display_name": "Python 3",
   "language": "python",
   "name": "python3"
  },
  "language_info": {
   "codemirror_mode": {
    "name": "ipython",
    "version": 3
   },
   "file_extension": ".py",
   "mimetype": "text/x-python",
   "name": "python",
   "nbconvert_exporter": "python",
   "pygments_lexer": "ipython3",
   "version": "3.8.8"
  }
 },
 "nbformat": 4,
 "nbformat_minor": 5
}
