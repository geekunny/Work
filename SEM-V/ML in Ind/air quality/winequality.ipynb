{
 "cells": [
  {
   "cell_type": "markdown",
   "id": "14a1d7be",
   "metadata": {},
   "source": [
    "<div style=\"font-size: 15px\"><pre class=\"tab\"><b>Name-</b>Haardik Gilhotra          <b>Roll no.-</b>R177219086          <b>Sap Id-</b>500076610          <b>Batch</b>-3 AI&ML</pre>\n",
    "<hr>\n",
    "<div style=\"font-size: 30px\"><b><u><center>EXPERIMENT - 3</center></u></b>\n",
    "    <div style=\"font-size: 20px\"><b>Aim: Wine Quality Prediction</b>\n",
    "<!--jupyter-nbconvert --to PDFviaHTML winequality.ipynb-->"
   ]
  },
  {
   "cell_type": "code",
   "execution_count": 1,
   "id": "a66cf05f-89ab-4983-b646-0d9eec7886da",
   "metadata": {},
   "outputs": [],
   "source": [
    "# Importing libraries\n",
    "import pandas as pd\n",
    "import numpy as np\n",
    "from sklearn.preprocessing import StandardScaler as ss\n",
    "from sklearn.linear_model import LinearRegression as lr\n",
    "from sklearn.neighbors import KNeighborsClassifier as knn\n",
    "from sklearn.ensemble import RandomForestClassifier as rf\n",
    "from sklearn.svm import SVC\n",
    "from sklearn.model_selection import train_test_split as tts\n",
    "from sklearn.metrics import accuracy_score as acc, confusion_matrix as cf\n",
    "import matplotlib.pyplot as plt"
   ]
  },
  {
   "cell_type": "code",
   "execution_count": 2,
   "id": "5f9a1458-1fed-4ede-820d-71a97d45cdd0",
   "metadata": {},
   "outputs": [
    {
     "data": {
      "text/html": [
       "<div>\n",
       "<style scoped>\n",
       "    .dataframe tbody tr th:only-of-type {\n",
       "        vertical-align: middle;\n",
       "    }\n",
       "\n",
       "    .dataframe tbody tr th {\n",
       "        vertical-align: top;\n",
       "    }\n",
       "\n",
       "    .dataframe thead th {\n",
       "        text-align: right;\n",
       "    }\n",
       "</style>\n",
       "<table border=\"1\" class=\"dataframe\">\n",
       "  <thead>\n",
       "    <tr style=\"text-align: right;\">\n",
       "      <th></th>\n",
       "      <th>type</th>\n",
       "      <th>fixed acidity</th>\n",
       "      <th>volatile acidity</th>\n",
       "      <th>citric acid</th>\n",
       "      <th>residual sugar</th>\n",
       "      <th>chlorides</th>\n",
       "      <th>free sulfur dioxide</th>\n",
       "      <th>total sulfur dioxide</th>\n",
       "      <th>density</th>\n",
       "      <th>pH</th>\n",
       "      <th>sulphates</th>\n",
       "      <th>alcohol</th>\n",
       "      <th>quality</th>\n",
       "    </tr>\n",
       "  </thead>\n",
       "  <tbody>\n",
       "    <tr>\n",
       "      <th>0</th>\n",
       "      <td>white</td>\n",
       "      <td>7.0</td>\n",
       "      <td>0.27</td>\n",
       "      <td>0.36</td>\n",
       "      <td>20.7</td>\n",
       "      <td>0.045</td>\n",
       "      <td>45.0</td>\n",
       "      <td>170.0</td>\n",
       "      <td>1.001</td>\n",
       "      <td>3.0</td>\n",
       "      <td>0.45</td>\n",
       "      <td>8.8</td>\n",
       "      <td>6</td>\n",
       "    </tr>\n",
       "    <tr>\n",
       "      <th>1</th>\n",
       "      <td>white</td>\n",
       "      <td>6.3</td>\n",
       "      <td>0.30</td>\n",
       "      <td>0.34</td>\n",
       "      <td>1.6</td>\n",
       "      <td>0.049</td>\n",
       "      <td>14.0</td>\n",
       "      <td>132.0</td>\n",
       "      <td>0.994</td>\n",
       "      <td>3.3</td>\n",
       "      <td>0.49</td>\n",
       "      <td>9.5</td>\n",
       "      <td>6</td>\n",
       "    </tr>\n",
       "  </tbody>\n",
       "</table>\n",
       "</div>"
      ],
      "text/plain": [
       "    type  fixed acidity  volatile acidity  citric acid  residual sugar  \\\n",
       "0  white            7.0              0.27         0.36            20.7   \n",
       "1  white            6.3              0.30         0.34             1.6   \n",
       "\n",
       "   chlorides  free sulfur dioxide  total sulfur dioxide  density   pH  \\\n",
       "0      0.045                 45.0                 170.0    1.001  3.0   \n",
       "1      0.049                 14.0                 132.0    0.994  3.3   \n",
       "\n",
       "   sulphates  alcohol  quality  \n",
       "0       0.45      8.8        6  \n",
       "1       0.49      9.5        6  "
      ]
     },
     "execution_count": 2,
     "metadata": {},
     "output_type": "execute_result"
    }
   ],
   "source": [
    "# Reading dataset\n",
    "wines = pd.read_csv(\"winequality.csv\")\n",
    "wines.head(2)"
   ]
  },
  {
   "cell_type": "code",
   "execution_count": 3,
   "id": "6e2421c4-d984-4d11-b063-07fea0a69028",
   "metadata": {},
   "outputs": [
    {
     "data": {
      "text/plain": [
       "34"
      ]
     },
     "execution_count": 3,
     "metadata": {},
     "output_type": "execute_result"
    }
   ],
   "source": [
    "# Checking if dataset has any nan values\n",
    "len(wines[wines.isna().any(axis=1)])"
   ]
  },
  {
   "cell_type": "code",
   "execution_count": 4,
   "id": "753503bf-0da8-44fc-859e-3aed7e0d23ac",
   "metadata": {},
   "outputs": [],
   "source": [
    "# Filling nan values with the mean \n",
    "for i in wines:\n",
    "    if i != \"type\":\n",
    "        wines[i].fillna(value=wines[i].mean(), inplace=True)"
   ]
  },
  {
   "cell_type": "code",
   "execution_count": 5,
   "id": "1d5893d5-d177-4be6-bb3f-e91813611b65",
   "metadata": {},
   "outputs": [
    {
     "data": {
      "text/plain": [
       "0"
      ]
     },
     "execution_count": 5,
     "metadata": {},
     "output_type": "execute_result"
    }
   ],
   "source": [
    "# Checking if nan values have been removed or not\n",
    "len(wines[wines.isna().any(axis=1)])"
   ]
  },
  {
   "cell_type": "code",
   "execution_count": 6,
   "id": "32144fd1-1f48-4af4-8aeb-b49a79929fc2",
   "metadata": {},
   "outputs": [
    {
     "data": {
      "text/html": [
       "<div>\n",
       "<style scoped>\n",
       "    .dataframe tbody tr th:only-of-type {\n",
       "        vertical-align: middle;\n",
       "    }\n",
       "\n",
       "    .dataframe tbody tr th {\n",
       "        vertical-align: top;\n",
       "    }\n",
       "\n",
       "    .dataframe thead th {\n",
       "        text-align: right;\n",
       "    }\n",
       "</style>\n",
       "<table border=\"1\" class=\"dataframe\">\n",
       "  <thead>\n",
       "    <tr style=\"text-align: right;\">\n",
       "      <th></th>\n",
       "      <th>fixed acidity</th>\n",
       "      <th>volatile acidity</th>\n",
       "      <th>citric acid</th>\n",
       "      <th>residual sugar</th>\n",
       "      <th>chlorides</th>\n",
       "      <th>free sulfur dioxide</th>\n",
       "      <th>total sulfur dioxide</th>\n",
       "      <th>density</th>\n",
       "      <th>pH</th>\n",
       "      <th>sulphates</th>\n",
       "      <th>alcohol</th>\n",
       "      <th>quality</th>\n",
       "    </tr>\n",
       "  </thead>\n",
       "  <tbody>\n",
       "    <tr>\n",
       "      <th>0</th>\n",
       "      <td>7.0</td>\n",
       "      <td>0.27</td>\n",
       "      <td>0.36</td>\n",
       "      <td>20.7</td>\n",
       "      <td>0.045</td>\n",
       "      <td>45.0</td>\n",
       "      <td>170.0</td>\n",
       "      <td>1.001</td>\n",
       "      <td>3.0</td>\n",
       "      <td>0.45</td>\n",
       "      <td>8.8</td>\n",
       "      <td>6</td>\n",
       "    </tr>\n",
       "    <tr>\n",
       "      <th>1</th>\n",
       "      <td>6.3</td>\n",
       "      <td>0.30</td>\n",
       "      <td>0.34</td>\n",
       "      <td>1.6</td>\n",
       "      <td>0.049</td>\n",
       "      <td>14.0</td>\n",
       "      <td>132.0</td>\n",
       "      <td>0.994</td>\n",
       "      <td>3.3</td>\n",
       "      <td>0.49</td>\n",
       "      <td>9.5</td>\n",
       "      <td>6</td>\n",
       "    </tr>\n",
       "  </tbody>\n",
       "</table>\n",
       "</div>"
      ],
      "text/plain": [
       "   fixed acidity  volatile acidity  citric acid  residual sugar  chlorides  \\\n",
       "0            7.0              0.27         0.36            20.7      0.045   \n",
       "1            6.3              0.30         0.34             1.6      0.049   \n",
       "\n",
       "   free sulfur dioxide  total sulfur dioxide  density   pH  sulphates  \\\n",
       "0                 45.0                 170.0    1.001  3.0       0.45   \n",
       "1                 14.0                 132.0    0.994  3.3       0.49   \n",
       "\n",
       "   alcohol  quality  \n",
       "0      8.8        6  \n",
       "1      9.5        6  "
      ]
     },
     "execution_count": 6,
     "metadata": {},
     "output_type": "execute_result"
    }
   ],
   "source": [
    "target = wines.drop('type', axis = 1)\n",
    "cols = (list(target.columns))\n",
    "cols.remove('quality')\n",
    "target.head(2)"
   ]
  },
  {
   "cell_type": "code",
   "execution_count": 7,
   "id": "fd9d25b5-7912-4322-83ec-69c126a7b4c0",
   "metadata": {},
   "outputs": [
    {
     "name": "stdout",
     "output_type": "stream",
     "text": [
      "Removing outliers in  fixed acidity\n",
      "Removing outliers in  volatile acidity\n",
      "Removing outliers in  citric acid\n",
      "Removing outliers in  residual sugar\n",
      "Removing outliers in  chlorides\n",
      "Removing outliers in  free sulfur dioxide\n",
      "Removing outliers in  total sulfur dioxide\n",
      "Removing outliers in  density\n",
      "Removing outliers in  pH\n",
      "Removing outliers in  sulphates\n",
      "Removing outliers in  alcohol\n",
      "Total outliers removed:  558\n"
     ]
    }
   ],
   "source": [
    "def remove_outliers(col,target):\n",
    "    data = target\n",
    "    data[\"z_\" + col] = (data[col] - data[col].mean()) / data[col].std()\n",
    "    data = data[np.abs(data[\"z_\" + col])<3]\n",
    "    return data\n",
    "for col in cols:\n",
    "    print(\"Removing outliers in \",col)\n",
    "    target = remove_outliers(col, target)\n",
    "print(\"Total outliers removed: \", wines.shape[0] - target.shape[0])"
   ]
  },
  {
   "cell_type": "code",
   "execution_count": 8,
   "id": "e4bb8b93-8b0c-41cb-af0f-bca2c3dc4448",
   "metadata": {},
   "outputs": [
    {
     "data": {
      "text/html": [
       "<div>\n",
       "<style scoped>\n",
       "    .dataframe tbody tr th:only-of-type {\n",
       "        vertical-align: middle;\n",
       "    }\n",
       "\n",
       "    .dataframe tbody tr th {\n",
       "        vertical-align: top;\n",
       "    }\n",
       "\n",
       "    .dataframe thead th {\n",
       "        text-align: right;\n",
       "    }\n",
       "</style>\n",
       "<table border=\"1\" class=\"dataframe\">\n",
       "  <thead>\n",
       "    <tr style=\"text-align: right;\">\n",
       "      <th></th>\n",
       "      <th>fixed acidity</th>\n",
       "      <th>volatile acidity</th>\n",
       "      <th>citric acid</th>\n",
       "      <th>residual sugar</th>\n",
       "      <th>chlorides</th>\n",
       "      <th>free sulfur dioxide</th>\n",
       "      <th>total sulfur dioxide</th>\n",
       "      <th>density</th>\n",
       "      <th>pH</th>\n",
       "      <th>sulphates</th>\n",
       "      <th>alcohol</th>\n",
       "      <th>quality</th>\n",
       "    </tr>\n",
       "  </thead>\n",
       "  <tbody>\n",
       "    <tr>\n",
       "      <th>1</th>\n",
       "      <td>6.3</td>\n",
       "      <td>0.30</td>\n",
       "      <td>0.34</td>\n",
       "      <td>1.6</td>\n",
       "      <td>0.049</td>\n",
       "      <td>14.0</td>\n",
       "      <td>132.0</td>\n",
       "      <td>0.9940</td>\n",
       "      <td>3.30</td>\n",
       "      <td>0.49</td>\n",
       "      <td>9.5</td>\n",
       "      <td>6</td>\n",
       "    </tr>\n",
       "    <tr>\n",
       "      <th>2</th>\n",
       "      <td>8.1</td>\n",
       "      <td>0.28</td>\n",
       "      <td>0.40</td>\n",
       "      <td>6.9</td>\n",
       "      <td>0.050</td>\n",
       "      <td>30.0</td>\n",
       "      <td>97.0</td>\n",
       "      <td>0.9951</td>\n",
       "      <td>3.26</td>\n",
       "      <td>0.44</td>\n",
       "      <td>10.1</td>\n",
       "      <td>6</td>\n",
       "    </tr>\n",
       "  </tbody>\n",
       "</table>\n",
       "</div>"
      ],
      "text/plain": [
       "   fixed acidity  volatile acidity  citric acid  residual sugar  chlorides  \\\n",
       "1            6.3              0.30         0.34             1.6      0.049   \n",
       "2            8.1              0.28         0.40             6.9      0.050   \n",
       "\n",
       "   free sulfur dioxide  total sulfur dioxide  density    pH  sulphates  \\\n",
       "1                 14.0                 132.0   0.9940  3.30       0.49   \n",
       "2                 30.0                  97.0   0.9951  3.26       0.44   \n",
       "\n",
       "   alcohol  quality  \n",
       "1      9.5        6  \n",
       "2     10.1        6  "
      ]
     },
     "execution_count": 8,
     "metadata": {},
     "output_type": "execute_result"
    }
   ],
   "source": [
    "target = target.drop(target.loc[:,\"z_fixed acidity\":], axis = 1)\n",
    "target.head(2)"
   ]
  },
  {
   "cell_type": "code",
   "execution_count": 9,
   "id": "722b4e86-3616-46a7-a731-97ab124927f2",
   "metadata": {},
   "outputs": [],
   "source": [
    "# Defining the dependent and independent variables\n",
    "x = target.drop(['quality'],axis = 1).values\n",
    "y = target['quality']\n",
    "x = ss().fit_transform(x)\n",
    "y = (y > 6).astype(np.uint8)"
   ]
  },
  {
   "cell_type": "code",
   "execution_count": 10,
   "id": "581d97cc-432b-47b7-8969-1c809d4a3d14",
   "metadata": {},
   "outputs": [],
   "source": [
    "# Splitting the dataset into training and testing data\n",
    "x_train, x_test, y_train, y_test = tts(x,y,test_size = 0.20)"
   ]
  },
  {
   "cell_type": "code",
   "execution_count": 11,
   "id": "0446d62c-25cb-408e-ab19-fbc19ba797f9",
   "metadata": {},
   "outputs": [],
   "source": [
    "# Loading the models\n",
    "models = {\n",
    "    \"Linear Regression\": lr(),\n",
    "    \"SVC\": SVC(),\n",
    "    \"K Nearest Neighbours\": knn(n_neighbors=10),\n",
    "    \"Random Forest Classifier\": rf()\n",
    "}"
   ]
  },
  {
   "cell_type": "code",
   "execution_count": 12,
   "id": "fbfe7485-34d5-45d9-9e32-a4fdbccddcf2",
   "metadata": {},
   "outputs": [
    {
     "name": "stdout",
     "output_type": "stream",
     "text": [
      "Linear Regression\n",
      "Training accuracy: 18.94%\n",
      "Testing accuracy: 20.65%\n",
      "\n",
      "SVC\n",
      "Training accuracy: 84.47%\n",
      "Testing accuracy: 81.90%\n",
      "\n",
      "K Nearest Neighbours\n",
      "Training accuracy: 85.94%\n",
      "Testing accuracy: 83.16%\n",
      "\n",
      "Random Forest Classifier\n",
      "Training accuracy: 100.00%\n",
      "Testing accuracy: 88.72%\n",
      "\n"
     ]
    }
   ],
   "source": [
    "# Training and printing the accuracy of the model\n",
    "for name, model in models.items():\n",
    "    model.fit(x_train,y_train)\n",
    "    print(name)\n",
    "    print(\"Training accuracy: {:.2%}\".format(model.score(x_train,y_train)))\n",
    "    print(\"Testing accuracy: {:.2%}\\n\".format(model.score(x_test,y_test)))"
   ]
  },
  {
   "cell_type": "code",
   "execution_count": 13,
   "id": "d74523fe-c451-4ff6-91c4-61833948b9cb",
   "metadata": {},
   "outputs": [
    {
     "name": "stdout",
     "output_type": "stream",
     "text": [
      "Linear Regression\n",
      "Confusion Matrix: \n",
      " [[931  18]\n",
      " [201  38]]\n",
      "Accuracy: 81.57%\n",
      "\n",
      "SVC\n",
      "Confusion Matrix: \n",
      " [[918  31]\n",
      " [184  55]]\n",
      "Accuracy: 81.90%\n",
      "\n",
      "K Nearest Neighbours\n",
      "Confusion Matrix: \n",
      " [[903  46]\n",
      " [154  85]]\n",
      "Accuracy: 83.16%\n",
      "\n",
      "Random Forest Classifier\n",
      "Confusion Matrix: \n",
      " [[921  28]\n",
      " [106 133]]\n",
      "Accuracy: 88.72%\n",
      "\n"
     ]
    }
   ],
   "source": [
    "# Evaluating the model\n",
    "for name, model in models.items():\n",
    "    print(name)\n",
    "    y_pred = model.predict(x_test)\n",
    "    y_pred = (np.rint(y_pred)).astype(np.uint)\n",
    "    print(\"Confusion Matrix: \\n\",cf(y_test, y_pred))\n",
    "    print(\"Accuracy: {:.2%}\\n\".format(acc(y_test, y_pred)))"
   ]
  }
 ],
 "metadata": {
  "kernelspec": {
   "display_name": "Python 3",
   "language": "python",
   "name": "python3"
  },
  "language_info": {
   "codemirror_mode": {
    "name": "ipython",
    "version": 3
   },
   "file_extension": ".py",
   "mimetype": "text/x-python",
   "name": "python",
   "nbconvert_exporter": "python",
   "pygments_lexer": "ipython3",
   "version": "3.8.8"
  }
 },
 "nbformat": 4,
 "nbformat_minor": 5
}
